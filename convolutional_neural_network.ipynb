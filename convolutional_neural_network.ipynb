{
  "nbformat": 4,
  "nbformat_minor": 0,
  "metadata": {
    "colab": {
      "name": "Untitled4.ipynb",
      "version": "0.3.2",
      "provenance": []
    },
    "kernelspec": {
      "name": "python3",
      "display_name": "Python 3"
    },
    "accelerator": "GPU"
  },
  "cells": [
    {
      "metadata": {
        "id": "rOznZ8hO5nHP",
        "colab_type": "text"
      },
      "cell_type": "markdown",
      "source": [
        "# Convolutional Neural Network"
      ]
    },
    {
      "metadata": {
        "id": "Sl01qsHl5mJm",
        "colab_type": "code",
        "colab": {}
      },
      "cell_type": "code",
      "source": [
        "import torch \n",
        "import torch.nn as nn\n",
        "import torchvision\n",
        "import torchvision.transforms as transforms\n",
        "\n",
        "\n",
        "# Device configuration\n",
        "device = torch.device('cuda:0' if torch.cuda.is_available() else 'cpu')\n",
        "\n",
        "# Hyper parameters\n",
        "num_epochs = 5\n",
        "num_classes = 10\n",
        "batch_size = 100\n",
        "learning_rate = 0.001\n",
        "\n",
        "# MNIST dataset\n",
        "train_dataset = torchvision.datasets.MNIST(root='./data/',\n",
        "                                           train=True, \n",
        "                                           transform=transforms.ToTensor(),\n",
        "                                           download=True)\n",
        "\n",
        "test_dataset = torchvision.datasets.MNIST(root='./data/',\n",
        "                                          train=False, \n",
        "                                          transform=transforms.ToTensor())\n",
        "\n",
        "# Data loader \n",
        "train_loader = torch.utils.data.DataLoader(dataset=train_dataset,\n",
        "                                                                           batch_size=batch_size,\n",
        "                                                                           shuffle=True)\n",
        "\n",
        "test_loader = torch.utils.data.DataLoader(dataset=test_dataset,\n",
        "                                                                          batch_size=batch_size,\n",
        "                                                                          shuffle=False)"
      ],
      "execution_count": 0,
      "outputs": []
    },
    {
      "metadata": {
        "id": "hLP9blEM6mC6",
        "colab_type": "code",
        "colab": {}
      },
      "cell_type": "code",
      "source": [
        "# CNN with two convolutional layers\n",
        "\n",
        "class ConvNet(nn.Module):\n",
        "  def __init__(self, num_classes=10):\n",
        "    super(ConvNet, self).__init__()\n",
        "    self.layer1 = nn.Sequential(\n",
        "          nn.Conv2d(1, 16, kernel_size=5, stride=1, padding=2),\n",
        "          nn.BatchNorm2d(16),\n",
        "          nn.ReLU(),\n",
        "          nn.MaxPool2d(kernel_size=2, stride=2))\n",
        "    self.layer2 = nn.Sequential(\n",
        "          nn.Conv2d(16, 32, kernel_size=5, stride=1, padding=2),\n",
        "          nn.BatchNorm2d(32),\n",
        "          nn.ReLU(),\n",
        "          nn.MaxPool2d(kernel_size=2, stride=2))\n",
        "    self.fc = nn.Linear(7*7*32, num_classes)\n",
        "    \n",
        "  def forward(self, x):\n",
        "    out = self.layer1(x)\n",
        "    out = self.layer2(out)\n",
        "    out = out.reshape(out.size(0), -1)\n",
        "    out = self.fc(out)\n",
        "    return out\n",
        "    \n",
        "  def check_cnn_size(self, img_in):\n",
        "    out = self.layer1(x)\n",
        "    out = self.layer2(out)\n",
        "    return out.size()"
      ],
      "execution_count": 0,
      "outputs": []
    },
    {
      "metadata": {
        "id": "XtzpMAMv85YU",
        "colab_type": "code",
        "outputId": "f25c0657-3874-44d0-b9f6-9d6cce5e55d8",
        "colab": {
          "base_uri": "https://localhost:8080/",
          "height": 34
        }
      },
      "cell_type": "code",
      "source": [
        "x = torch.randn(1, 1, 28, 28)\n",
        "ConvNet().check_cnn_size(x)"
      ],
      "execution_count": 12,
      "outputs": [
        {
          "output_type": "execute_result",
          "data": {
            "text/plain": [
              "torch.Size([1, 32, 7, 7])"
            ]
          },
          "metadata": {
            "tags": []
          },
          "execution_count": 12
        }
      ]
    },
    {
      "metadata": {
        "id": "q4BAXPfR9Y6B",
        "colab_type": "code",
        "colab": {}
      },
      "cell_type": "code",
      "source": [
        "model = ConvNet(num_classes).to(device)"
      ],
      "execution_count": 0,
      "outputs": []
    },
    {
      "metadata": {
        "id": "xT2kroTZ9paB",
        "colab_type": "code",
        "outputId": "e93ffadb-58c9-4b3e-b185-e5500c9b34db",
        "colab": {
          "base_uri": "https://localhost:8080/",
          "height": 527
        }
      },
      "cell_type": "code",
      "source": [
        "# Loss and optimizer\n",
        "criterion = nn.CrossEntropyLoss()\n",
        "optimizer = torch.optim.Adam(model.parameters(), lr=learning_rate)\n",
        "\n",
        "# Train the model\n",
        "total_step = len(train_loader)\n",
        "for epoch in range(num_epochs):\n",
        "  for i, (images, labels) in enumerate(train_loader):\n",
        "    images = images.to(device)\n",
        "    labels = labels.to(device)\n",
        "    \n",
        "    # Forward pass\n",
        "    outputs = model(images)\n",
        "    loss = criterion(outputs, labels)\n",
        "    \n",
        "    # Backward and optimize\n",
        "    optimizer.zero_grad()\n",
        "    loss.backward()\n",
        "    optimizer.step()\n",
        "    \n",
        "    if (i + 1) % 100 == 0:\n",
        "      print('Epoch [{}/{}], Step[{}/{}], Loss: {:.4f}'\n",
        "                .format(epoch+1, num_epochs, i+1, total_step, loss.item()))"
      ],
      "execution_count": 14,
      "outputs": [
        {
          "output_type": "stream",
          "text": [
            "Epoch [1/5], Step[100/600], Loss: 0.1543\n",
            "Epoch [1/5], Step[200/600], Loss: 0.0577\n",
            "Epoch [1/5], Step[300/600], Loss: 0.1382\n",
            "Epoch [1/5], Step[400/600], Loss: 0.0352\n",
            "Epoch [1/5], Step[500/600], Loss: 0.0728\n",
            "Epoch [1/5], Step[600/600], Loss: 0.0306\n",
            "Epoch [2/5], Step[100/600], Loss: 0.1328\n",
            "Epoch [2/5], Step[200/600], Loss: 0.1019\n",
            "Epoch [2/5], Step[300/600], Loss: 0.0725\n",
            "Epoch [2/5], Step[400/600], Loss: 0.0601\n",
            "Epoch [2/5], Step[500/600], Loss: 0.0105\n",
            "Epoch [2/5], Step[600/600], Loss: 0.0183\n",
            "Epoch [3/5], Step[100/600], Loss: 0.0188\n",
            "Epoch [3/5], Step[200/600], Loss: 0.0227\n",
            "Epoch [3/5], Step[300/600], Loss: 0.0146\n",
            "Epoch [3/5], Step[400/600], Loss: 0.0322\n",
            "Epoch [3/5], Step[500/600], Loss: 0.0328\n",
            "Epoch [3/5], Step[600/600], Loss: 0.0654\n",
            "Epoch [4/5], Step[100/600], Loss: 0.0091\n",
            "Epoch [4/5], Step[200/600], Loss: 0.0186\n",
            "Epoch [4/5], Step[300/600], Loss: 0.0373\n",
            "Epoch [4/5], Step[400/600], Loss: 0.0131\n",
            "Epoch [4/5], Step[500/600], Loss: 0.0406\n",
            "Epoch [4/5], Step[600/600], Loss: 0.0603\n",
            "Epoch [5/5], Step[100/600], Loss: 0.0200\n",
            "Epoch [5/5], Step[200/600], Loss: 0.0120\n",
            "Epoch [5/5], Step[300/600], Loss: 0.0300\n",
            "Epoch [5/5], Step[400/600], Loss: 0.0470\n",
            "Epoch [5/5], Step[500/600], Loss: 0.0825\n",
            "Epoch [5/5], Step[600/600], Loss: 0.0044\n"
          ],
          "name": "stdout"
        }
      ]
    },
    {
      "metadata": {
        "id": "H7KUgZkx-xbS",
        "colab_type": "code",
        "colab": {
          "base_uri": "https://localhost:8080/",
          "height": 34
        },
        "outputId": "885e3a8b-94c9-40c5-d5ed-967b86da033a"
      },
      "cell_type": "code",
      "source": [
        "# Test the model\n",
        "model.eval() #batchnorm uses moving mean/variance instead of mini-batch mean/variance\n",
        "with torch.no_grad():\n",
        "  correct = 0\n",
        "  total = 0\n",
        "  for images, labels in test_loader:\n",
        "    images = images.to(device)\n",
        "    labels = labels.to(device)\n",
        "    outputs = model(images)\n",
        "    _, predicted = torch.max(outputs.data, 1)\n",
        "    total += labels.size(0)\n",
        "    correct += (predicted == labels).sum().item()\n",
        "    \n",
        "print('Test Accuracy of the model on the 10000 test images: {} %'.format(100 * correct / total))\n"
      ],
      "execution_count": 15,
      "outputs": [
        {
          "output_type": "stream",
          "text": [
            "Test Accuracy of the model on the 10000 test images: 98.9 %\n"
          ],
          "name": "stdout"
        }
      ]
    },
    {
      "metadata": {
        "id": "Ww_jLzHeAIPc",
        "colab_type": "code",
        "colab": {}
      },
      "cell_type": "code",
      "source": [
        ""
      ],
      "execution_count": 0,
      "outputs": []
    }
  ]
}